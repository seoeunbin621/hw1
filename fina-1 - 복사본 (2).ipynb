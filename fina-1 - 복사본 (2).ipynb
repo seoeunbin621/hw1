{
 "cells": [
  {
   "cell_type": "code",
   "execution_count": 117,
   "id": "a4c22a92",
   "metadata": {},
   "outputs": [
    {
     "name": "stdout",
     "output_type": "stream",
     "text": [
      "2+5=7\n",
      "1.5+5=6.5\n",
      "\"2\"+\"5\"= '25'\n"
     ]
    }
   ],
   "source": [
    "# 데이터의 연산\n",
    "## + : 덧셈, - : 뺄셈, * : 곱셈, / : 나눗셈\n",
    "## // : 몫, % : 나머지, ** :거듭제곱\n",
    "\n",
    "print(f'{2+5=}')\n",
    "print(f'{1.5+5=}')\n",
    "print(f'{\"2\"+\"5\"= }')\n"
   ]
  },
  {
   "cell_type": "code",
   "execution_count": 118,
   "id": "4b5fd945",
   "metadata": {},
   "outputs": [
    {
     "name": "stdout",
     "output_type": "stream",
     "text": [
      "2-5= -3\n",
      "2*5= 10\n",
      "2/5= 0.4\n",
      "50//2= 25\n",
      "50%2= 0\n",
      "2**5= 32\n"
     ]
    }
   ],
   "source": [
    "print(f'{2-5= }') # 뺼셈\n",
    "print(f'{2*5= }') # 곱셉\n",
    "print(f'{2/5= }') # 나눗셈\n",
    "print(f'{50//2= }') # 몫\n",
    "print(f'{50%2= }') # 나머지\n",
    "print(f'{2**5= }') # 거듭제곱"
   ]
  },
  {
   "cell_type": "code",
   "execution_count": 119,
   "id": "628febd8",
   "metadata": {},
   "outputs": [
    {
     "name": "stdout",
     "output_type": "stream",
     "text": [
      "var_x + var_x= 'AbcAbc'\n",
      "var_y + var_y= [100, 2, 3, 100, 2, 3]\n",
      "var_x * 3= 'AbcAbcAbc'\n",
      "var_y * 3= [100, 2, 3, 100, 2, 3, 100, 2, 3]\n"
     ]
    }
   ],
   "source": [
    "var_x = 'Abc' # 문자열\n",
    "var_y = [100, 2, 3] # 리스트\n",
    "\n",
    "print(f'{var_x + var_x= }')\n",
    "print(f'{var_y + var_y= }')\n",
    "print(f'{var_x * 3= }')\n",
    "print(f'{var_y * 3= }')"
   ]
  },
  {
   "cell_type": "code",
   "execution_count": 120,
   "id": "f66b411c",
   "metadata": {},
   "outputs": [
    {
     "name": "stdout",
     "output_type": "stream",
     "text": [
      "3==5 =False\n",
      "3!=5 =True\n",
      "3>5 =False\n",
      "3<5 =True\n",
      "3>=5 =False\n",
      "3<=5 =True\n"
     ]
    }
   ],
   "source": [
    "# 비교 연산\n",
    "## == : 같다, != : 같지 않다\n",
    "## > , < : 크다, 작다\n",
    "## >=, <= : 크거나 같다, 작거나 같다\n",
    "\n",
    "print(f'{3==5 =}') # 같다\n",
    "print(f'{3!=5 =}') # 같지 않다\n",
    "print(f'{3>5 =}') # 크다\n",
    "print(f'{3<5 =}') # 작다\n",
    "print(f'{3>=5 =}') # 크거나 같다\n",
    "print(f'{3<=5 =}') # 작거나 같다\n"
   ]
  },
  {
   "cell_type": "code",
   "execution_count": 121,
   "id": "b15230c9",
   "metadata": {},
   "outputs": [
    {
     "name": "stdout",
     "output_type": "stream",
     "text": [
      "var_y == [1, 2, 3, 4, 5]=True\n",
      "var_y != [1, 2, 3, 4, 5]=False\n",
      "var_y == [1, 2, 3]=False\n",
      "var_y != [1, 2, 3]=True\n",
      "var_y >= [1, 2, 3]=True\n",
      "var_y <= [1, 2, 3]=False\n"
     ]
    }
   ],
   "source": [
    "var_y = [1, 2, 3, 4, 5]\n",
    "\n",
    "print(f'{var_y == [1, 2, 3, 4, 5]=}')\n",
    "print(f'{var_y != [1, 2, 3, 4, 5]=}')\n",
    "print(f'{var_y == [1, 2, 3]=}')\n",
    "print(f'{var_y != [1, 2, 3]=}')\n",
    "print(f'{var_y >= [1, 2, 3]=}')\n",
    "print(f'{var_y <= [1, 2, 3]=}')"
   ]
  },
  {
   "cell_type": "code",
   "execution_count": 122,
   "id": "19b85191",
   "metadata": {},
   "outputs": [
    {
     "name": "stdout",
     "output_type": "stream",
     "text": [
      "var_y =False\n",
      "var_x and var_y =False\n",
      "var_x or var_y =True\n",
      "not var_x =False\n"
     ]
    }
   ],
   "source": [
    "# 논리연산\n",
    "## and : 논리곱, 둘 다 참일 때만 참\n",
    "## or : 논리합, 둘 중 하나만 참이어도 참\n",
    "## not : 논리부정, 참이면 거짓, 거짓이면 참\n",
    "\n",
    "var_x = True\n",
    "var_y = (15 > 20)\n",
    "print(f'{var_y =}')\n",
    "print(f'{var_x and var_y =}')\n",
    "print(f'{var_x or var_y =}')\n",
    "print(f'{not var_x =}')"
   ]
  },
  {
   "cell_type": "code",
   "execution_count": 123,
   "id": "c2a25010",
   "metadata": {},
   "outputs": [
    {
     "name": "stdout",
     "output_type": "stream",
     "text": [
      "(1 in var_y)=True\n",
      "(\"1\" in var_y)=False\n",
      "(1 not in var_y)=False\n",
      "(7 not in var_y)=True\n"
     ]
    }
   ],
   "source": [
    "# 멤버십 연산\n",
    "## in : 포함되어 있으면 참\n",
    "### not in : 포함되어 있지 않으면 참\n",
    "\n",
    "var_y = [1, 2, 3, 4, 5]\n",
    "print(f'{(1 in var_y)=}')\n",
    "print(f'{(\"1\" in var_y)=}')\n",
    "print(f'{(1 not in var_y)=}')\n",
    "print(f'{(7 not in var_y)=}')"
   ]
  },
  {
   "cell_type": "code",
   "execution_count": 124,
   "id": "8c9d3b5b",
   "metadata": {},
   "outputs": [
    {
     "name": "stdout",
     "output_type": "stream",
     "text": [
      "(var_x==10)=True\n",
      "(var_x is 10) =True\n"
     ]
    },
    {
     "name": "stderr",
     "output_type": "stream",
     "text": [
      "<>:6: SyntaxWarning: \"is\" with a literal. Did you mean \"==\"?\n",
      "<>:6: SyntaxWarning: \"is\" with a literal. Did you mean \"==\"?\n",
      "C:\\Users\\서우빈\\AppData\\Local\\Temp\\ipykernel_24144\\554646808.py:6: SyntaxWarning: \"is\" with a literal. Did you mean \"==\"?\n",
      "  print(f'{(var_x is 10) =}')\n"
     ]
    }
   ],
   "source": [
    "# 식별 연산\n",
    "## is : 동일한 객체(동일한 주소를 갖는가)이면 참\n",
    "## is not : 동일한 객체가 아니면 참\n",
    "var_x = 10\n",
    "print(f'{(var_x==10)=}')\n",
    "print(f'{(var_x is 10) =}')\n"
   ]
  },
  {
   "cell_type": "code",
   "execution_count": 125,
   "id": "ef79b5bb",
   "metadata": {},
   "outputs": [
    {
     "name": "stdout",
     "output_type": "stream",
     "text": [
      "(var_x is var_y)=False\n",
      "(var_x is var_z) =True\n",
      "(var_x is not var_y)=True\n",
      "(var_x is not var_z) =False\n"
     ]
    }
   ],
   "source": [
    "var_x = 100\n",
    "var_y = 100.0\n",
    "var_z = var_x\n",
    "print(f'{(var_x is var_y)=}')\n",
    "print(f'{(var_x is var_z) =}')\n",
    "print(f'{(var_x is not var_y)=}')\n",
    "print(f'{(var_x is not var_z) =}')"
   ]
  },
  {
   "cell_type": "code",
   "execution_count": 126,
   "id": "4b1b3325",
   "metadata": {},
   "outputs": [
    {
     "name": "stdout",
     "output_type": "stream",
     "text": [
      "6\n"
     ]
    }
   ],
   "source": [
    "# 복합 대입 연산\n",
    "\n",
    "## x += a : x = x + a\n",
    "## x -= a : x = x - a\n",
    "## x *= a : x = x * a\n",
    "## x /= a : x = x / a\n",
    "## x //= a : x = x // a\n",
    "## x %= a : x = x % a\n",
    "## x **= a : x = x ** a\n",
    "\n",
    "var_x = 1\n",
    "var_x += 5\n",
    "# var_x = var_x + 5\n",
    "\n",
    "print(var_x)\n"
   ]
  },
  {
   "cell_type": "code",
   "execution_count": 127,
   "id": "d2ba2763",
   "metadata": {},
   "outputs": [
    {
     "name": "stdout",
     "output_type": "stream",
     "text": [
      "20\n",
      "18\n",
      "36\n",
      "18.0\n",
      "9.0\n",
      "1.0\n",
      "1.0\n"
     ]
    }
   ],
   "source": [
    "var_x = 10\n",
    "var_x += 10; print(var_x)\n",
    "var_x -= 2; print(var_x)\n",
    "var_x *= 2; print(var_x)\n",
    "var_x /= 2; print(var_x)\n",
    "var_x //= 2; print(var_x)\n",
    "var_x %= 2; print(var_x)\n",
    "var_x **= 2; print(var_x)"
   ]
  },
  {
   "cell_type": "code",
   "execution_count": 128,
   "id": "4190ec64",
   "metadata": {},
   "outputs": [
    {
     "name": "stdout",
     "output_type": "stream",
     "text": [
      "13\n",
      "256\n",
      "True\n",
      "False\n",
      "False\n"
     ]
    }
   ],
   "source": [
    "# 연산의 우선순위\n",
    "## (), **, *, /, //, %, +, -, ==, !=, >, <, >=, <=, not, and, or\n",
    "## 가능하면, 괄호()를 사용하여 연산의 우선순위를 명확히 하는 것이 좋음\n",
    "\n",
    "print(2**3+5)\n",
    "print(2**(3+5))\n",
    "print(2+3<=4*5)\n",
    "print(not 2+3<=4*5)\n",
    "print(not (2+3)<=(4*5))"
   ]
  },
  {
   "cell_type": "code",
   "execution_count": 129,
   "id": "e44f6d10",
   "metadata": {},
   "outputs": [
    {
     "name": "stdout",
     "output_type": "stream",
     "text": [
      "총 금액은 47000원입니다.\n"
     ]
    }
   ],
   "source": [
    "#응용1\n",
    "\n",
    "# 과일과 가격을 저장할 리스트\n",
    "fruits = [\"사과\", \"딸기\", \"멜론\", \"배\", \"복숭아\"]\n",
    "prices = [3000, 6000, 11000, 5000, 8000]\n",
    "\n",
    "# 구입할 과일과 수량을 딕셔너리로 저장\n",
    "purchase = { \"멜론\": 3, \"딸기\": 1, \"복숭아\": 1}\n",
    "\n",
    "# 총 금액 계산\n",
    "total_price = (prices[2] * 3) + prices[1] + prices[4]\n",
    "\n",
    "print(f\"총 금액은 {total_price}원입니다.\")\n",
    "\n",
    "# 응용 설명:\n",
    "## 같은 과일을 여러 개 구매하는 경우, 'purchase' 딕셔너리의 값을 활용함\n",
    "## 과일 이름에 맞는 가격을 찾아 곱한 뒤, 이를 더하는 방식으로 가격을 계산함"
   ]
  },
  {
   "cell_type": "code",
   "execution_count": 130,
   "id": "9dfa0846",
   "metadata": {},
   "outputs": [
    {
     "name": "stdout",
     "output_type": "stream",
     "text": [
      "가장 나이가 많은 사람:\n",
      "이름: 임준혁, 생년월일: 19881013, 나이: 36\n",
      "--------------------------------------------------\n",
      "가장 나이가 적은 사람:\n",
      "이름: 신은호, 생년월일: 19951222, 나이: 29\n",
      "--------------------------------------------------\n"
     ]
    }
   ],
   "source": [
    "#응용2\n",
    "\n",
    "students = [{\"name\": \"박준휘\", \"bd\": \"19930326\", \"age\": 32},\n",
    "    {\"name\": \"윤승우\", \"bd\": \"19900521\", \"age\": 34},\n",
    "    {\"name\": \"임준혁\", \"bd\": \"19881013\", \"age\": 36},\n",
    "    {\"name\": \"신은호\", \"bd\": \"19951222\", \"age\": 29},\n",
    "    {\"name\": \"한재아\", \"bd\": \"19921228\", \"age\": 32},\n",
    "    {\"name\": \"송영미\", \"bd\": \"19931013\", \"age\": 31}]\n",
    "\n",
    "# 학생들의 나이 비교\n",
    "for student in students:\n",
    "    if student[\"age\"] > oldest_student[\"age\"]:\n",
    "        oldest_student = student\n",
    "    if student[\"age\"] < youngest_student[\"age\"]:\n",
    "        youngest_student = student\n",
    "\n",
    "# 결과 출력\n",
    "print(\"가장 나이가 많은 사람:\")\n",
    "print(f\"이름: {oldest_student['name']}, 생년월일: {oldest_student['bd']}, 나이: {oldest_student['age']}\", end=\"\\n\" + \"-\" *50 + \"\\n\")\n",
    "\n",
    "print(\"가장 나이가 적은 사람:\")\n",
    "print(f\"이름: {youngest_student['name']}, 생년월일: {youngest_student['bd']}, 나이: {youngest_student['age']}\", end=\"\\n\" + \"-\" *50 + \"\\n\")\n",
    "\n",
    "# 학생들의 나이 정보를 기반으로, 'oldest_student'와 'youngest_student'를 찾음\n",
    "# 코드에서 `oldest_student`와 `youngest_student`는 비교를 통해 나이가 가장 많은 사람과 가장 적은 사람을 찾는 변수\n"
   ]
  }
 ],
 "metadata": {
  "kernelspec": {
   "display_name": "Python 3",
   "language": "python",
   "name": "python3"
  },
  "language_info": {
   "codemirror_mode": {
    "name": "ipython",
    "version": 3
   },
   "file_extension": ".py",
   "mimetype": "text/x-python",
   "name": "python",
   "nbconvert_exporter": "python",
   "pygments_lexer": "ipython3",
   "version": "3.9.7"
  }
 },
 "nbformat": 4,
 "nbformat_minor": 5
}
