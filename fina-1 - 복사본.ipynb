{
 "cells": [
  {
   "cell_type": "code",
   "execution_count": 102,
   "id": "0090f862",
   "metadata": {},
   "outputs": [
    {
     "name": "stdout",
     "output_type": "stream",
     "text": [
      "8\n"
     ]
    }
   ],
   "source": [
    "# 데이터 유형\n",
    "## 숫자\n",
    "\n",
    "a=3\n",
    "b=5\n",
    "print(a+b)"
   ]
  },
  {
   "cell_type": "code",
   "execution_count": 103,
   "id": "9728799b",
   "metadata": {},
   "outputs": [
    {
     "name": "stdout",
     "output_type": "stream",
     "text": [
      "Hello, 은빈\n"
     ]
    }
   ],
   "source": [
    "## 문자열\n",
    "\n",
    "name = \"은빈\"\n",
    "greeting = \"Hello, \" + name # 문자열 합치기\n",
    "print(greeting)"
   ]
  },
  {
   "cell_type": "code",
   "execution_count": 104,
   "id": "133da3e0",
   "metadata": {},
   "outputs": [
    {
     "name": "stdout",
     "output_type": "stream",
     "text": [
      "1\n",
      "4\n"
     ]
    }
   ],
   "source": [
    "## 리스트 (여러 개의 값을 순서대로 모은 자료형)\n",
    "### 각 값은 인덱스(순서)로 접근할 수 있음\n",
    "\n",
    "var_a = \"1\", \"2\", \"3\", \"4\", \"5\"\n",
    "print(var_a[0]) #리스트에서 첫 번째 값\n",
    "print(var_a[3]) #리스트에서 네 번째 값"
   ]
  },
  {
   "cell_type": "code",
   "execution_count": 105,
   "id": "a73d6879",
   "metadata": {},
   "outputs": [
    {
     "name": "stdout",
     "output_type": "stream",
     "text": [
      "(10, 20)\n"
     ]
    }
   ],
   "source": [
    "## 튜플 (리스트와 유사하나 데이터 변경 불가)\n",
    "\n",
    "var_b = (10, 20)\n",
    "print(var_b)"
   ]
  },
  {
   "cell_type": "code",
   "execution_count": 106,
   "id": "4380a8e3",
   "metadata": {},
   "outputs": [
    {
     "name": "stdout",
     "output_type": "stream",
     "text": [
      "서은빈\n",
      "C331296\n"
     ]
    }
   ],
   "source": [
    "## 딕셔너리 (키와 값을 쌍으로 묶어서 저장하는 자료형)\n",
    "### 키를 사용하여 값을 조회할 수 있음\n",
    "\n",
    "var_c= {\"이름\" : \"서은빈\", \"학번\" : \"C331296\"}\n",
    "print(var_c[\"이름\"])\n",
    "print(var_c[\"학번\"])\n"
   ]
  },
  {
   "cell_type": "code",
   "execution_count": 107,
   "id": "ac093d61",
   "metadata": {},
   "outputs": [
    {
     "name": "stdout",
     "output_type": "stream",
     "text": [
      "{1, 2, 3, 4, 5}\n"
     ]
    }
   ],
   "source": [
    "## 집합 (중복된 값이 없는 자료형)\n",
    "### 순서가 없고 모든 값이 유일-중복된 값 자동으로 제거해줌\n",
    "\n",
    "var_d= {1, 2, 3, 3, 4, 5}\n",
    "print(var_d) #중복값 제거\n",
    "\n"
   ]
  },
  {
   "cell_type": "code",
   "execution_count": 108,
   "id": "3e9def33",
   "metadata": {},
   "outputs": [
    {
     "name": "stdout",
     "output_type": "stream",
     "text": [
      "valid\n"
     ]
    }
   ],
   "source": [
    "## 불린 (참과 거짓 값을 나타내는 자료형)\n",
    "### 주로 조건문에서 사용됨\n",
    "\n",
    "is_valid = True\n",
    "is_approved = False\n",
    "\n",
    "if is_valid :\n",
    "    print(\"valid\")\n",
    "\n",
    "else :\n",
    "    print(\"Invalid\") \n"
   ]
  },
  {
   "cell_type": "code",
   "execution_count": 109,
   "id": "6331075e",
   "metadata": {},
   "outputs": [
    {
     "name": "stdout",
     "output_type": "stream",
     "text": [
      "결과가 없습니다\n"
     ]
    }
   ],
   "source": [
    "# none (값이 없음을 나타내는 특수한 자료형)\n",
    "### 어떤 변수에 값이 아직 장해지지 않았을 때 사용\n",
    "\n",
    "result = None\n",
    "if result is None:\n",
    "    print(\"결과가 없습니다\")"
   ]
  },
  {
   "cell_type": "code",
   "execution_count": 110,
   "id": "a2c3887a",
   "metadata": {},
   "outputs": [
    {
     "name": "stdout",
     "output_type": "stream",
     "text": [
      "Before: x_list=['abcde', 12345]\n",
      "After: x_list=['abcde', 'fghij']\n"
     ]
    }
   ],
   "source": [
    "# mutable (원소의 수정 가능한 자료형)\n",
    "### 리스트(List), 딕셔너리(Dictionary)\n",
    "\n",
    "## : 리스트\n",
    "x_list= [\"abcde\", 12345]\n",
    "print(f'Before: {x_list=}') # 원소 변경 전\n",
    "x_list[1]= \"fghij\" # 인덱스 1 원소를 변경\n",
    "print(f'After: {x_list=}') # 원소 변경 후\n"
   ]
  },
  {
   "cell_type": "code",
   "execution_count": 111,
   "id": "92c22abc",
   "metadata": {},
   "outputs": [
    {
     "name": "stdout",
     "output_type": "stream",
     "text": [
      "Before : x_dict={'name': '서은빈', '생년월일': 20030621, '과목': '기업과 경영'}\n",
      "After : x_dict={'name': '서은빈', '생년월일': 20030621, '과목': '비즈니스 프로그래밍'}\n"
     ]
    }
   ],
   "source": [
    "## : 딕셔너리\n",
    "x_dict= {\"name\" : \"서은빈\", \"생년월일\" : 20030621, \"과목\" : \"기업과 경영\"}\n",
    "print(f'Before : {x_dict=}') # 원소 변경 전\n",
    "x_dict[\"과목\"] = \"비즈니스 프로그래밍\" # key가 \"과목\"인 원소를 변경\n",
    "print(f'After : {x_dict=}') # 원소 변경 후 "
   ]
  },
  {
   "cell_type": "code",
   "execution_count": 112,
   "id": "04da0baf",
   "metadata": {},
   "outputs": [
    {
     "name": "stdout",
     "output_type": "stream",
     "text": [
      "Before:abcde\n",
      "Error : 'str' object does not support item assignment\n",
      "After : x_str='abcde'\n"
     ]
    }
   ],
   "source": [
    "# immutable (원소의 수정이 불가능한 자료형)\n",
    "### 문자열(String), 튜플(Tuple)\n",
    "\n",
    "## : 문자열-> 원소 바꾸기 불가\n",
    "### try~except 구문 (에러 발생시, 커널을 중지시키기 때문에 중지되지 않도록 사용함)\n",
    "\n",
    "x_str= \"abcde\"\n",
    "print(f'Before:{x_str}')\n",
    "\n",
    "try:\n",
    "    x_str[1] = \"2\" # 인덱스 1 원소를 \"2\"로 변경 but 문자열은 immutable\n",
    "except TypeError as e: # 에러 발생시 에러 메세지를 e에 할당당\n",
    "    print(f'Error : {e}')\n",
    "\n",
    "print(f'After : {x_str=}')\n"
   ]
  },
  {
   "cell_type": "code",
   "execution_count": 113,
   "id": "d21c5aa2",
   "metadata": {},
   "outputs": [
    {
     "name": "stdout",
     "output_type": "stream",
     "text": [
      "Before:{12345, 'abcde'}\n",
      "Error : 'set' object does not support item assignment\n",
      "After : x_tuple={12345, 'abcde'}\n"
     ]
    }
   ],
   "source": [
    "## : 튜플-> 원소 바꾸기 불가\n",
    "\n",
    "x_tuple= {\"abcde\", 12345}\n",
    "print(f'Before:{x_tuple}')\n",
    "\n",
    "try:\n",
    "    x_tuple[1] = \"fghij\" # 인덱스 1 원소를 \"2\"로 변경 but 문자열은 immutable\n",
    "except TypeError as e: # 에러 발생시 에러 메세지를 e에 할당당\n",
    "    print(f'Error : {e}')\n",
    "\n",
    "print(f'After : {x_tuple=}')"
   ]
  },
  {
   "cell_type": "code",
   "execution_count": 114,
   "id": "5fa95205",
   "metadata": {},
   "outputs": [
    {
     "name": "stdout",
     "output_type": "stream",
     "text": [
      "12345는 <class 'int'>\n",
      "--------------------------------------------------\n",
      "12345.0는 <class 'float'>\n",
      "--------------------------------------------------\n",
      "12345는 <class 'str'>\n",
      "--------------------------------------------------\n",
      "True는 <class 'bool'>\n"
     ]
    }
   ],
   "source": [
    "# 자료형 변환\n",
    "## 단일 자료형 변환 함수\n",
    "\n",
    "### int() : 정수형으로 전환\n",
    "### float() : 실수형으로 전환\n",
    "### str() : 문자열로 전환\n",
    "\n",
    "var_x = 12345\n",
    "print(f\"{var_x}는 {type(var_x)}\", end=\"\\n\" + \"-\" *50 + \"\\n\")\n",
    "\n",
    "var_y = float(var_x)\n",
    "print(f\"{var_y}는 {type(var_y)}\", end=\"\\n\" + \"-\" *50 + \"\\n\")\n",
    "\n",
    "var_y = str(var_x)\n",
    "print(f\"{var_y}는 {type(var_y)}\", end=\"\\n\" + \"-\" *50 + \"\\n\")\n",
    "\n",
    "var_y = bool(var_x)\n",
    "print(f\"{var_y}는 {type(var_y)}\")\n"
   ]
  },
  {
   "cell_type": "code",
   "execution_count": 115,
   "id": "64051f16",
   "metadata": {},
   "outputs": [
    {
     "name": "stdout",
     "output_type": "stream",
     "text": [
      "range(-10, 0, 2)는 <class 'range'>\n",
      "--------------------------------------------------\n",
      "[-10, -8, -6, -4, -2]는 <class 'list'>\n",
      "--------------------------------------------------\n",
      "(-10, -8, -6, -4, -2)는 <class 'tuple'>\n",
      "--------------------------------------------------\n",
      "{-10, -8, -6, -4, -2}는 <class 'set'>\n"
     ]
    }
   ],
   "source": [
    "## iterable 자료형 변환 함수 (반복 가능한 자료형)\n",
    "## list() : 리스트로 변환\n",
    "## tuple() : 튜플로 변환\n",
    "## dict() : 딕셔너리로 변환\n",
    "## set() : 집합으로 변환\n",
    "\n",
    "## range()함수 (연속된 정수를 생성하는 함수로서 iterable 자료형 변환)\n",
    "### range(시작, 끝, 증가폭)\n",
    "### 시작은 포함, 끝은 미포함\n",
    "### 증가폭은 생략 가능하며, 생략시 1로 설정\n",
    "\n",
    "var_x = range(-10, 0, 2) # var_x에 -10부터 0까지 2씩 증가하는 range 객체\n",
    "print(f\"{var_x}는 {type(var_x)}\", end=\"\\n\" + \"-\" *50 + \"\\n\")\n",
    "\n",
    "var_y = list(var_x) # var_y에 var_x의 값을 리스트로 변환하여 할당\n",
    "print(f\"{var_y}는 {type(var_y)}\", end=\"\\n\" + \"-\" *50 + \"\\n\")\n",
    "\n",
    "var_y = tuple(var_x) # var_y에 var_x의 값을 튜플로 변환하여 할당\n",
    "print(f\"{var_y}는 {type(var_y)}\", end=\"\\n\" + \"-\" *50 + \"\\n\")\n",
    "\n",
    "var_y = set(var_x) # var_y에 var_x의 값을 집합으로 변환하여 할당\n",
    "print(f\"{var_y}는 {type(var_y)}\")"
   ]
  },
  {
   "cell_type": "code",
   "execution_count": 116,
   "id": "aa403c63",
   "metadata": {},
   "outputs": [
    {
     "name": "stdout",
     "output_type": "stream",
     "text": [
      "abcdefad는 <class 'str'>\n",
      "--------------------------------------------------\n",
      "['a', 'b', 'c', 'd', 'e', 'f', 'a', 'd']는 <class 'list'>\n",
      "--------------------------------------------------\n",
      "('a', 'b', 'c', 'd', 'e', 'f', 'a', 'd')는 <class 'tuple'>\n",
      "--------------------------------------------------\n",
      "{'d', 'b', 'c', 'e', 'f', 'a'}는 <class 'set'>\n"
     ]
    }
   ],
   "source": [
    "var_x = \"abcdefad\"\n",
    "print(f\"{var_x}는 {type(var_x)}\", end=\"\\n\" + \"-\" *50 + \"\\n\")\n",
    "\n",
    "var_y = list(var_x) # 리스트로\n",
    "print(f\"{var_y}는 {type(var_y)}\", end=\"\\n\" + \"-\" *50 + \"\\n\")\n",
    "\n",
    "var_y = tuple(var_x) # 튜플로\n",
    "print(f\"{var_y}는 {type(var_y)}\", end=\"\\n\" + \"-\" *50 + \"\\n\")\n",
    "\n",
    "var_y = set(var_x) # 집합으로\n",
    "print(f\"{var_y}는 {type(var_y)}\")\n"
   ]
  }
 ],
 "metadata": {
  "kernelspec": {
   "display_name": "Python 3",
   "language": "python",
   "name": "python3"
  },
  "language_info": {
   "codemirror_mode": {
    "name": "ipython",
    "version": 3
   },
   "file_extension": ".py",
   "mimetype": "text/x-python",
   "name": "python",
   "nbconvert_exporter": "python",
   "pygments_lexer": "ipython3",
   "version": "3.9.7"
  }
 },
 "nbformat": 4,
 "nbformat_minor": 5
}
