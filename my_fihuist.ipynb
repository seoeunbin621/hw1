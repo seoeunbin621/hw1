{
 "cells": [
  {
   "cell_type": "code",
   "execution_count": 92,
   "id": "5fda9f1a",
   "metadata": {},
   "outputs": [
    {
     "name": "stdout",
     "output_type": "stream",
     "text": [
      "홍익대\n",
      "1657323475760\n"
     ]
    }
   ],
   "source": [
    "var_x= '홍익대'\n",
    "print(var_x)\n",
    "print(id(var_x))\n"
   ]
  },
  {
   "cell_type": "code",
   "execution_count": 93,
   "id": "7bf66999",
   "metadata": {},
   "outputs": [
    {
     "name": "stdout",
     "output_type": "stream",
     "text": [
      "홍익대학교\n",
      "1657323477680\n"
     ]
    }
   ],
   "source": [
    "var_x= '홍익대학교'\n",
    "print(var_x)\n",
    "print(id(var_x))"
   ]
  },
  {
   "cell_type": "code",
   "execution_count": 94,
   "id": "bba6d5cb",
   "metadata": {},
   "outputs": [
    {
     "name": "stdout",
     "output_type": "stream",
     "text": [
      "홍익대\n",
      "1657323457392\n"
     ]
    }
   ],
   "source": [
    "# 변수 var_x와 동일한 데이터를 저장했지만 다른 메모리에 출력됨\n",
    "\n",
    "var_y='홍익대'\n",
    "print(var_y)\n",
    "print(id(var_y))\n"
   ]
  },
  {
   "cell_type": "code",
   "execution_count": 95,
   "id": "6d1a4ee8",
   "metadata": {},
   "outputs": [],
   "source": [
    "var_z1=123\n",
    "var_z2=[1, 2, 3, 4, 5]\n"
   ]
  },
  {
   "cell_type": "code",
   "execution_count": 96,
   "id": "217820bc",
   "metadata": {},
   "outputs": [],
   "source": [
    "del var_x\n",
    "#변수 삭제하고 싶을 때 del"
   ]
  },
  {
   "cell_type": "code",
   "execution_count": 97,
   "id": "a35facab",
   "metadata": {},
   "outputs": [
    {
     "name": "stdout",
     "output_type": "stream",
     "text": [
      "서은빈:c331296:경영학과\n",
      "서은빈:c331296:경영학과\t*********\n"
     ]
    }
   ],
   "source": [
    "# print()함수\n",
    "\n",
    "print('서은빈', 'c331296', '경영학과', sep=':')\n",
    "\n",
    "print('서은빈', 'c331296', '경영학과', sep=':', end='\\t*********\\n')\n"
   ]
  },
  {
   "cell_type": "code",
   "execution_count": 98,
   "id": "502f932e",
   "metadata": {},
   "outputs": [
    {
     "name": "stdout",
     "output_type": "stream",
     "text": [
      "이름 : 서은빈\n",
      "학번 : C331296\n",
      "학과 : 경영학과\n"
     ]
    }
   ],
   "source": [
    "# 이스케이프 문자\n",
    "## \\n : 줄바꿈\n",
    "## \\t : 탭\n",
    "## \\\\ : \\출력\n",
    "## \\' : '출력\n",
    "\n",
    "print('이름 : 서은빈\\n학번 : C331296\\n학과 : 경영학과')\n"
   ]
  },
  {
   "cell_type": "code",
   "execution_count": 99,
   "id": "0c993519",
   "metadata": {},
   "outputs": [
    {
     "name": "stdout",
     "output_type": "stream",
     "text": [
      "이름\t학번\t학과\n",
      "서은빈\tC331296\t경영학과\n"
     ]
    }
   ],
   "source": [
    "print('이름\\t학번\\t학과')\n",
    "print('서은빈\\tC331296\\t경영학과')\n"
   ]
  },
  {
   "cell_type": "code",
   "execution_count": 100,
   "id": "b37dc776",
   "metadata": {},
   "outputs": [
    {
     "name": "stdout",
     "output_type": "stream",
     "text": [
      "54321\n",
      "-----------------\n",
      "var_y=54321\n",
      "-----------------\n",
      "var_y =54321\n"
     ]
    }
   ],
   "source": [
    "# f-string\n",
    "## f'{변수명}' : 변수의 값 출력\n",
    "## f'{변수명 =}' : 변수의 값과 변수명 출력\n",
    "\n",
    "var_y= 54321\n",
    "print(f'{var_y}', end='\\n-----------------\\n')\n",
    "print(f'{var_y=}', end='\\n-----------------\\n')\n",
    "print(f'var_y ={var_y}')\n",
    "\n"
   ]
  },
  {
   "cell_type": "code",
   "execution_count": 101,
   "id": "32b6d6e2",
   "metadata": {},
   "outputs": [
    {
     "name": "stdout",
     "output_type": "stream",
     "text": [
      "2003\n",
      "      2003\n",
      "2003      \n",
      "2003.331296\n",
      "2003\n",
      "2003.33130\n",
      "      2003.331      \n"
     ]
    }
   ],
   "source": [
    "# f'{변수명: 서식}\n",
    "## 정렬번호 : 없음-왼쪽, ^-가운데, >-오른쪽\n",
    "## 서식지정자 : 문자열-s, 정수-d, 실수-f\n",
    "## 소수점 자릿수 지정 : 구분자(:), 오른편에. 자릿수 f를 시용\n",
    "\n",
    "var_x = 2003\n",
    "var_y = 2003.331296\n",
    "\n",
    "print(f'{var_x:d}') # 정수형이므로 d 사용\n",
    "print(f'{var_x:10d}') # 총 10개의 자리에 표현\n",
    "print(f'{var_x:<10d}') # chd 10개의 자리에 왼쪽 정렬하여 표현\n",
    "print(f'{var_y:f}') # 실수형이므로 f 사용\n",
    "print(f'{var_y:.0f}') # 정수만 출력\n",
    "print(f'{var_y:.5f}') # 소수점 5자리까지 출력\n",
    "print(f'{var_y:^20.3f}') # 20자리에 가운데 정렬하여 소수점 3자리까지 출력"
   ]
  },
  {
   "cell_type": "code",
   "execution_count": 102,
   "id": "0090f862",
   "metadata": {},
   "outputs": [
    {
     "name": "stdout",
     "output_type": "stream",
     "text": [
      "8\n"
     ]
    }
   ],
   "source": [
   










"# 데이터 유형\n",
    "## 숫자\n",
    "\n",
    "a=3\n",
    "b=5\n",
    "print(a+b)"
   ]
  },
  {
   "cell_type": "code",
   "execution_count": 103,
   "id": "9728799b",
   "metadata": {},
   "outputs": [
    {
     "name": "stdout",
     "output_type": "stream",
     "text": [
      "Hello, 은빈\n"
     ]
    }
   ],
   "source": [
    "## 문자열\n",
    "\n",
    "name = \"은빈\"\n",
    "greeting = \"Hello, \" + name # 문자열 합치기\n",
    "print(greeting)"
   ]
  },
  {
   "cell_type": "code",
   "execution_count": 104,
   "id": "133da3e0",
   "metadata": {},
   "outputs": [
    {
     "name": "stdout",
     "output_type": "stream",
     "text": [
      "1\n",
      "4\n"
     ]
    }
   ],
   "source": [
    "## 리스트 (여러 개의 값을 순서대로 모은 자료형)\n",
    "### 각 값은 인덱스(순서)로 접근할 수 있음\n",
    "\n",
    "var_a = \"1\", \"2\", \"3\", \"4\", \"5\"\n",
    "print(var_a[0]) #리스트에서 첫 번째 값\n",
    "print(var_a[3]) #리스트에서 네 번째 값"
   ]
  },
  {
   "cell_type": "code",
   "execution_count": 105,
   "id": "a73d6879",
   "metadata": {},
   "outputs": [
    {
     "name": "stdout",
     "output_type": "stream",
     "text": [
      "(10, 20)\n"
     ]
    }
   ],
   "source": [
    "## 튜플 (리스트와 유사하나 데이터 변경 불가)\n",
    "\n",
    "var_b = (10, 20)\n",
    "print(var_b)"
   ]
  },
  {
   "cell_type": "code",
   "execution_count": 106,
   "id": "4380a8e3",
   "metadata": {},
   "outputs": [
    {
     "name": "stdout",
     "output_type": "stream",
     "text": [
      "서은빈\n",
      "C331296\n"
     ]
    }
   ],
   "source": [
    "## 딕셔너리 (키와 값을 쌍으로 묶어서 저장하는 자료형)\n",
    "### 키를 사용하여 값을 조회할 수 있음\n",
    "\n",
    "var_c= {\"이름\" : \"서은빈\", \"학번\" : \"C331296\"}\n",
    "print(var_c[\"이름\"])\n",
    "print(var_c[\"학번\"])\n"
   ]
  },
  {
   "cell_type": "code",
   "execution_count": 107,
   "id": "ac093d61",
   "metadata": {},
   "outputs": [
    {
     "name": "stdout",
     "output_type": "stream",
     "text": [
      "{1, 2, 3, 4, 5}\n"
     ]
    }
   ],
   "source": [
    "## 집합 (중복된 값이 없는 자료형)\n",
    "### 순서가 없고 모든 값이 유일-중복된 값 자동으로 제거해줌\n",
    "\n",
    "var_d= {1, 2, 3, 3, 4, 5}\n",
    "print(var_d) #중복값 제거\n",
    "\n"
   ]
  },
  {
   "cell_type": "code",
   "execution_count": 108,
   "id": "3e9def33",
   "metadata": {},
   "outputs": [
    {
     "name": "stdout",
     "output_type": "stream",
     "text": [
      "valid\n"
     ]
    }
   ],
   "source": [
    "## 불린 (참과 거짓 값을 나타내는 자료형)\n",
    "### 주로 조건문에서 사용됨\n",
    "\n",
    "is_valid = True\n",
    "is_approved = False\n",
    "\n",
    "if is_valid :\n",
    "    print(\"valid\")\n",
    "\n",
    "else :\n",
    "    print(\"Invalid\") \n"
   ]
  },
  {
   "cell_type": "code",
   "execution_count": 109,
   "id": "6331075e",
   "metadata": {},
   "outputs": [
    {
     "name": "stdout",
     "output_type": "stream",
     "text": [
      "결과가 없습니다\n"
     ]
    }
   ],
   "source": [
    "# none (값이 없음을 나타내는 특수한 자료형)\n",
    "### 어떤 변수에 값이 아직 장해지지 않았을 때 사용\n",
    "\n",
    "result = None\n",
    "if result is None:\n",
    "    print(\"결과가 없습니다\")"
   ]
  },
  {
   "cell_type": "code",
   "execution_count": 110,
   "id": "a2c3887a",
   "metadata": {},
   "outputs": [
    {
     "name": "stdout",
     "output_type": "stream",
     "text": [
      "Before: x_list=['abcde', 12345]\n",
      "After: x_list=['abcde', 'fghij']\n"
     ]
    }
   ],
   "source": [
    "# mutable (원소의 수정 가능한 자료형)\n",
    "### 리스트(List), 딕셔너리(Dictionary)\n",
    "\n",
    "## : 리스트\n",
    "x_list= [\"abcde\", 12345]\n",
    "print(f'Before: {x_list=}') # 원소 변경 전\n",
    "x_list[1]= \"fghij\" # 인덱스 1 원소를 변경\n",
    "print(f'After: {x_list=}') # 원소 변경 후\n"
   ]
  },
  {
   "cell_type": "code",
   "execution_count": 111,
   "id": "92c22abc",
   "metadata": {},
   "outputs": [
    {
     "name": "stdout",
     "output_type": "stream",
     "text": [
      "Before : x_dict={'name': '서은빈', '생년월일': 20030621, '과목': '기업과 경영'}\n",
      "After : x_dict={'name': '서은빈', '생년월일': 20030621, '과목': '비즈니스 프로그래밍'}\n"
     ]
    }
   ],
   "source": [
    "## : 딕셔너리\n",
    "x_dict= {\"name\" : \"서은빈\", \"생년월일\" : 20030621, \"과목\" : \"기업과 경영\"}\n",
    "print(f'Before : {x_dict=}') # 원소 변경 전\n",
    "x_dict[\"과목\"] = \"비즈니스 프로그래밍\" # key가 \"과목\"인 원소를 변경\n",
    "print(f'After : {x_dict=}') # 원소 변경 후 "
   ]
  },
  {
   "cell_type": "code",
   "execution_count": 112,
   "id": "04da0baf",
   "metadata": {},
   "outputs": [
    {
     "name": "stdout",
     "output_type": "stream",
     "text": [
      "Before:abcde\n",
      "Error : 'str' object does not support item assignment\n",
      "After : x_str='abcde'\n"
     ]
    }
   ],
   "source": [
    "# immutable (원소의 수정이 불가능한 자료형)\n",
    "### 문자열(String), 튜플(Tuple)\n",
    "\n",
    "## : 문자열-> 원소 바꾸기 불가\n",
    "### try~except 구문 (에러 발생시, 커널을 중지시키기 때문에 중지되지 않도록 사용함)\n",
    "\n",
    "x_str= \"abcde\"\n",
    "print(f'Before:{x_str}')\n",
    "\n",
    "try:\n",
    "    x_str[1] = \"2\" # 인덱스 1 원소를 \"2\"로 변경 but 문자열은 immutable\n",
    "except TypeError as e: # 에러 발생시 에러 메세지를 e에 할당당\n",
    "    print(f'Error : {e}')\n",
    "\n",
    "print(f'After : {x_str=}')\n"
   ]
  },
  {
   "cell_type": "code",
   "execution_count": 113,
   "id": "d21c5aa2",
   "metadata": {},
   "outputs": [
    {
     "name": "stdout",
     "output_type": "stream",
     "text": [
      "Before:{12345, 'abcde'}\n",
      "Error : 'set' object does not support item assignment\n",
      "After : x_tuple={12345, 'abcde'}\n"
     ]
    }
   ],
   "source": [
    "## : 튜플-> 원소 바꾸기 불가\n",
    "\n",
    "x_tuple= {\"abcde\", 12345}\n",
    "print(f'Before:{x_tuple}')\n",
    "\n",
    "try:\n",
    "    x_tuple[1] = \"fghij\" # 인덱스 1 원소를 \"2\"로 변경 but 문자열은 immutable\n",
    "except TypeError as e: # 에러 발생시 에러 메세지를 e에 할당당\n",
    "    print(f'Error : {e}')\n",
    "\n",
    "print(f'After : {x_tuple=}')"
   ]
  },
  {
   "cell_type": "code",
   "execution_count": 114,
   "id": "5fa95205",
   "metadata": {},
   "outputs": [
    {
     "name": "stdout",
     "output_type": "stream",
     "text": [
      "12345는 <class 'int'>\n",
      "--------------------------------------------------\n",
      "12345.0는 <class 'float'>\n",
      "--------------------------------------------------\n",
      "12345는 <class 'str'>\n",
      "--------------------------------------------------\n",
      "True는 <class 'bool'>\n"
     ]
    }
   ],
   "source": [
    "# 자료형 변환\n",
    "## 단일 자료형 변환 함수\n",
    "\n",
    "### int() : 정수형으로 전환\n",
    "### float() : 실수형으로 전환\n",
    "### str() : 문자열로 전환\n",
    "\n",
    "var_x = 12345\n",
    "print(f\"{var_x}는 {type(var_x)}\", end=\"\\n\" + \"-\" *50 + \"\\n\")\n",
    "\n",
    "var_y = float(var_x)\n",
    "print(f\"{var_y}는 {type(var_y)}\", end=\"\\n\" + \"-\" *50 + \"\\n\")\n",
    "\n",
    "var_y = str(var_x)\n",
    "print(f\"{var_y}는 {type(var_y)}\", end=\"\\n\" + \"-\" *50 + \"\\n\")\n",
    "\n",
    "var_y = bool(var_x)\n",
    "print(f\"{var_y}는 {type(var_y)}\")\n"
   ]
  },
  {
   "cell_type": "code",
   "execution_count": 115,
   "id": "64051f16",
   "metadata": {},
   "outputs": [
    {
     "name": "stdout",
     "output_type": "stream",
     "text": [
      "range(-10, 0, 2)는 <class 'range'>\n",
      "--------------------------------------------------\n",
      "[-10, -8, -6, -4, -2]는 <class 'list'>\n",
      "--------------------------------------------------\n",
      "(-10, -8, -6, -4, -2)는 <class 'tuple'>\n",
      "--------------------------------------------------\n",
      "{-10, -8, -6, -4, -2}는 <class 'set'>\n"
     ]
    }
   ],
   "source": [
    "## iterable 자료형 변환 함수 (반복 가능한 자료형)\n",
    "## list() : 리스트로 변환\n",
    "## tuple() : 튜플로 변환\n",
    "## dict() : 딕셔너리로 변환\n",
    "## set() : 집합으로 변환\n",
    "\n",
    "## range()함수 (연속된 정수를 생성하는 함수로서 iterable 자료형 변환)\n",
    "### range(시작, 끝, 증가폭)\n",
    "### 시작은 포함, 끝은 미포함\n",
    "### 증가폭은 생략 가능하며, 생략시 1로 설정\n",
    "\n",
    "var_x = range(-10, 0, 2) # var_x에 -10부터 0까지 2씩 증가하는 range 객체\n",
    "print(f\"{var_x}는 {type(var_x)}\", end=\"\\n\" + \"-\" *50 + \"\\n\")\n",
    "\n",
    "var_y = list(var_x) # var_y에 var_x의 값을 리스트로 변환하여 할당\n",
    "print(f\"{var_y}는 {type(var_y)}\", end=\"\\n\" + \"-\" *50 + \"\\n\")\n",
    "\n",
    "var_y = tuple(var_x) # var_y에 var_x의 값을 튜플로 변환하여 할당\n",
    "print(f\"{var_y}는 {type(var_y)}\", end=\"\\n\" + \"-\" *50 + \"\\n\")\n",
    "\n",
    "var_y = set(var_x) # var_y에 var_x의 값을 집합으로 변환하여 할당\n",
    "print(f\"{var_y}는 {type(var_y)}\")"
   ]
  },
  {
   "cell_type": "code",
   "execution_count": 116,
   "id": "aa403c63",
   "metadata": {},
   "outputs": [
    {
     "name": "stdout",
     "output_type": "stream",
     "text": [
      "abcdefad는 <class 'str'>\n",
      "--------------------------------------------------\n",
      "['a', 'b', 'c', 'd', 'e', 'f', 'a', 'd']는 <class 'list'>\n",
      "--------------------------------------------------\n",
      "('a', 'b', 'c', 'd', 'e', 'f', 'a', 'd')는 <class 'tuple'>\n",
      "--------------------------------------------------\n",
      "{'d', 'b', 'c', 'e', 'f', 'a'}는 <class 'set'>\n"
     ]
    }
   ],
   "source": [
    "var_x = \"abcdefad\"\n",
    "print(f\"{var_x}는 {type(var_x)}\", end=\"\\n\" + \"-\" *50 + \"\\n\")\n",
    "\n",
    "var_y = list(var_x) # 리스트로\n",
    "print(f\"{var_y}는 {type(var_y)}\", end=\"\\n\" + \"-\" *50 + \"\\n\")\n",
    "\n",
    "var_y = tuple(var_x) # 튜플로\n",
    "print(f\"{var_y}는 {type(var_y)}\", end=\"\\n\" + \"-\" *50 + \"\\n\")\n",
    "\n",
    "var_y = set(var_x) # 집합으로\n",
    "print(f\"{var_y}는 {type(var_y)}\")\n"
   ]
  },
  {
   "cell_type": "code",
   "execution_count": 117,
   "id": "a4c22a92",
   "metadata": {},
   "outputs": [
    {
     "name": "stdout",
     "output_type": "stream",
     "text": [
      "2+5=7\n",
      "1.5+5=6.5\n",
      "\"2\"+\"5\"= '25'\n"
     ]
    }
   ],
   "source": [
    "# 데이터의 연산\n",
    "## + : 덧셈, - : 뺄셈, * : 곱셈, / : 나눗셈\n",
    "## // : 몫, % : 나머지, ** :거듭제곱\n",
    "\n",
    "print(f'{2+5=}')\n",
    "print(f'{1.5+5=}')\n",
    "print(f'{\"2\"+\"5\"= }')\n"
   ]
  },
  {
   "cell_type": "code",
   "execution_count": 118,
   "id": "4b5fd945",
   "metadata": {},
   "outputs": [
    {
     "name": "stdout",
     "output_type": "stream",
     "text": [
      "2-5= -3\n",
      "2*5= 10\n",
      "2/5= 0.4\n",
      "50//2= 25\n",
      "50%2= 0\n",
      "2**5= 32\n"
     ]
    }
   ],
   "source": [
    "print(f'{2-5= }') # 뺼셈\n",
    "print(f'{2*5= }') # 곱셉\n",
    "print(f'{2/5= }') # 나눗셈\n",
    "print(f'{50//2= }') # 몫\n",
    "print(f'{50%2= }') # 나머지\n",
    "print(f'{2**5= }') # 거듭제곱"
   ]
  },
  {
   "cell_type": "code",
   "execution_count": 119,
   "id": "628febd8",
   "metadata": {},
   "outputs": [
    {
     "name": "stdout",
     "output_type": "stream",
     "text": [
      "var_x + var_x= 'AbcAbc'\n",
      "var_y + var_y= [100, 2, 3, 100, 2, 3]\n",
      "var_x * 3= 'AbcAbcAbc'\n",
      "var_y * 3= [100, 2, 3, 100, 2, 3, 100, 2, 3]\n"
     ]
    }
   ],
   "source": [
    "var_x = 'Abc' # 문자열\n",
    "var_y = [100, 2, 3] # 리스트\n",
    "\n",
    "print(f'{var_x + var_x= }')\n",
    "print(f'{var_y + var_y= }')\n",
    "print(f'{var_x * 3= }')\n",
    "print(f'{var_y * 3= }')"
   ]
  },
  {
   "cell_type": "code",
   "execution_count": 120,
   "id": "f66b411c",
   "metadata": {},
   "outputs": [
    {
     "name": "stdout",
     "output_type": "stream",
     "text": [
      "3==5 =False\n",
      "3!=5 =True\n",
      "3>5 =False\n",
      "3<5 =True\n",
      "3>=5 =False\n",
      "3<=5 =True\n"
     ]
    }
   ],
   "source": [
    "# 비교 연산\n",
    "## == : 같다, != : 같지 않다\n",
    "## > , < : 크다, 작다\n",
    "## >=, <= : 크거나 같다, 작거나 같다\n",
    "\n",
    "print(f'{3==5 =}') # 같다\n",
    "print(f'{3!=5 =}') # 같지 않다\n",
    "print(f'{3>5 =}') # 크다\n",
    "print(f'{3<5 =}') # 작다\n",
    "print(f'{3>=5 =}') # 크거나 같다\n",
    "print(f'{3<=5 =}') # 작거나 같다\n"
   ]
  },
  {
   "cell_type": "code",
   "execution_count": 121,
   "id": "b15230c9",
   "metadata": {},
   "outputs": [
    {
     "name": "stdout",
     "output_type": "stream",
     "text": [
      "var_y == [1, 2, 3, 4, 5]=True\n",
      "var_y != [1, 2, 3, 4, 5]=False\n",
      "var_y == [1, 2, 3]=False\n",
      "var_y != [1, 2, 3]=True\n",
      "var_y >= [1, 2, 3]=True\n",
      "var_y <= [1, 2, 3]=False\n"
     ]
    }
   ],
   "source": [
    "var_y = [1, 2, 3, 4, 5]\n",
    "\n",
    "print(f'{var_y == [1, 2, 3, 4, 5]=}')\n",
    "print(f'{var_y != [1, 2, 3, 4, 5]=}')\n",
    "print(f'{var_y == [1, 2, 3]=}')\n",
    "print(f'{var_y != [1, 2, 3]=}')\n",
    "print(f'{var_y >= [1, 2, 3]=}')\n",
    "print(f'{var_y <= [1, 2, 3]=}')"
   ]
  },
  {
   "cell_type": "code",
   "execution_count": 122,
   "id": "19b85191",
   "metadata": {},
   "outputs": [
    {
     "name": "stdout",
     "output_type": "stream",
     "text": [
      "var_y =False\n",
      "var_x and var_y =False\n",
      "var_x or var_y =True\n",
      "not var_x =False\n"
     ]
    }
   ],
   "source": [
    "# 논리연산\n",
    "## and : 논리곱, 둘 다 참일 때만 참\n",
    "## or : 논리합, 둘 중 하나만 참이어도 참\n",
    "## not : 논리부정, 참이면 거짓, 거짓이면 참\n",
    "\n",
    "var_x = True\n",
    "var_y = (15 > 20)\n",
    "print(f'{var_y =}')\n",
    "print(f'{var_x and var_y =}')\n",
    "print(f'{var_x or var_y =}')\n",
    "print(f'{not var_x =}')"
   ]
  },
  {
   "cell_type": "code",
   "execution_count": 123,
   "id": "c2a25010",
   "metadata": {},
   "outputs": [
    {
     "name": "stdout",
     "output_type": "stream",
     "text": [
      "(1 in var_y)=True\n",
      "(\"1\" in var_y)=False\n",
      "(1 not in var_y)=False\n",
      "(7 not in var_y)=True\n"
     ]
    }
   ],
   "source": [
    "# 멤버십 연산\n",
    "## in : 포함되어 있으면 참\n",
    "### not in : 포함되어 있지 않으면 참\n",
    "\n",
    "var_y = [1, 2, 3, 4, 5]\n",
    "print(f'{(1 in var_y)=}')\n",
    "print(f'{(\"1\" in var_y)=}')\n",
    "print(f'{(1 not in var_y)=}')\n",
    "print(f'{(7 not in var_y)=}')"
   ]
  },
  {
   "cell_type": "code",
   "execution_count": 124,
   "id": "8c9d3b5b",
   "metadata": {},
   "outputs": [
    {
     "name": "stdout",
     "output_type": "stream",
     "text": [
      "(var_x==10)=True\n",
      "(var_x is 10) =True\n"
     ]
    },
    {
     "name": "stderr",
     "output_type": "stream",
     "text": [
      "<>:6: SyntaxWarning: \"is\" with a literal. Did you mean \"==\"?\n",
      "<>:6: SyntaxWarning: \"is\" with a literal. Did you mean \"==\"?\n",
      "C:\\Users\\서우빈\\AppData\\Local\\Temp\\ipykernel_24144\\554646808.py:6: SyntaxWarning: \"is\" with a literal. Did you mean \"==\"?\n",
      "  print(f'{(var_x is 10) =}')\n"
     ]
    }
   ],
   "source": [
    "# 식별 연산\n",
    "## is : 동일한 객체(동일한 주소를 갖는가)이면 참\n",
    "## is not : 동일한 객체가 아니면 참\n",
    "var_x = 10\n",
    "print(f'{(var_x==10)=}')\n",
    "print(f'{(var_x is 10) =}')\n"
   ]
  },
  {
   "cell_type": "code",
   "execution_count": 125,
   "id": "ef79b5bb",
   "metadata": {},
   "outputs": [
    {
     "name": "stdout",
     "output_type": "stream",
     "text": [
      "(var_x is var_y)=False\n",
      "(var_x is var_z) =True\n",
      "(var_x is not var_y)=True\n",
      "(var_x is not var_z) =False\n"
     ]
    }
   ],
   "source": [
    "var_x = 100\n",
    "var_y = 100.0\n",
    "var_z = var_x\n",
    "print(f'{(var_x is var_y)=}')\n",
    "print(f'{(var_x is var_z) =}')\n",
    "print(f'{(var_x is not var_y)=}')\n",
    "print(f'{(var_x is not var_z) =}')"
   ]
  },
  {
   "cell_type": "code",
   "execution_count": 126,
   "id": "4b1b3325",
   "metadata": {},
   "outputs": [
    {
     "name": "stdout",
     "output_type": "stream",
     "text": [
      "6\n"
     ]
    }
   ],
   "source": [
    "# 복합 대입 연산\n",
    "\n",
    "## x += a : x = x + a\n",
    "## x -= a : x = x - a\n",
    "## x *= a : x = x * a\n",
    "## x /= a : x = x / a\n",
    "## x //= a : x = x // a\n",
    "## x %= a : x = x % a\n",
    "## x **= a : x = x ** a\n",
    "\n",
    "var_x = 1\n",
    "var_x += 5\n",
    "# var_x = var_x + 5\n",
    "\n",
    "print(var_x)\n"
   ]
  },
  {
   "cell_type": "code",
   "execution_count": 127,
   "id": "d2ba2763",
   "metadata": {},
   "outputs": [
    {
     "name": "stdout",
     "output_type": "stream",
     "text": [
      "20\n",
      "18\n",
      "36\n",
      "18.0\n",
      "9.0\n",
      "1.0\n",
      "1.0\n"
     ]
    }
   ],
   "source": [
    "var_x = 10\n",
    "var_x += 10; print(var_x)\n",
    "var_x -= 2; print(var_x)\n",
    "var_x *= 2; print(var_x)\n",
    "var_x /= 2; print(var_x)\n",
    "var_x //= 2; print(var_x)\n",
    "var_x %= 2; print(var_x)\n",
    "var_x **= 2; print(var_x)"
   ]
  },
  {
   "cell_type": "code",
   "execution_count": 128,
   "id": "4190ec64",
   "metadata": {},
   "outputs": [
    {
     "name": "stdout",
     "output_type": "stream",
     "text": [
      "13\n",
      "256\n",
      "True\n",
      "False\n",
      "False\n"
     ]
    }
   ],
   "source": [
    "# 연산의 우선순위\n",
    "## (), **, *, /, //, %, +, -, ==, !=, >, <, >=, <=, not, and, or\n",
    "## 가능하면, 괄호()를 사용하여 연산의 우선순위를 명확히 하는 것이 좋음\n",
    "\n",
    "print(2**3+5)\n",
    "print(2**(3+5))\n",
    "print(2+3<=4*5)\n",
    "print(not 2+3<=4*5)\n",
    "print(not (2+3)<=(4*5))"
   ]
  },
  {
   "cell_type": "code",
   "execution_count": 129,
   "id": "e44f6d10",
   "metadata": {},
   "outputs": [
    {
     "name": "stdout",
     "output_type": "stream",
     "text": [
      "총 금액은 47000원입니다.\n"
     ]
    }
   ],
   "source": [
    "#응용1\n",
    "\n",
    "# 과일과 가격을 저장할 리스트\n",
    "fruits = [\"사과\", \"딸기\", \"멜론\", \"배\", \"복숭아\"]\n",
    "prices = [3000, 6000, 11000, 5000, 8000]\n",
    "\n",
    "# 구입할 과일과 수량을 딕셔너리로 저장\n",
    "purchase = { \"멜론\": 3, \"딸기\": 1, \"복숭아\": 1}\n",
    "\n",
    "# 총 금액 계산\n",
    "total_price = (prices[2] * 3) + prices[1] + prices[4]\n",
    "\n",
    "print(f\"총 금액은 {total_price}원입니다.\")\n",
    "\n",
    "# 응용 설명:\n",
    "## 같은 과일을 여러 개 구매하는 경우, 'purchase' 딕셔너리의 값을 활용함\n",
    "## 과일 이름에 맞는 가격을 찾아 곱한 뒤, 이를 더하는 방식으로 가격을 계산함"
   ]
  },
  {
   "cell_type": "code",
   "execution_count": 130,
   "id": "9dfa0846",
   "metadata": {},
   "outputs": [
    {
     "name": "stdout",
     "output_type": "stream",
     "text": [
      "가장 나이가 많은 사람:\n",
      "이름: 임준혁, 생년월일: 19881013, 나이: 36\n",
      "--------------------------------------------------\n",
      "가장 나이가 적은 사람:\n",
      "이름: 신은호, 생년월일: 19951222, 나이: 29\n",
      "--------------------------------------------------\n"
     ]
    }
   ],
   "source": [
    "#응용2\n",
    "\n",
    "students = [{\"name\": \"박준휘\", \"bd\": \"19930326\", \"age\": 32},\n",
    "    {\"name\": \"윤승우\", \"bd\": \"19900521\", \"age\": 34},\n",
    "    {\"name\": \"임준혁\", \"bd\": \"19881013\", \"age\": 36},\n",
    "    {\"name\": \"신은호\", \"bd\": \"19951222\", \"age\": 29},\n",
    "    {\"name\": \"한재아\", \"bd\": \"19921228\", \"age\": 32},\n",
    "    {\"name\": \"송영미\", \"bd\": \"19931013\", \"age\": 31}]\n",
    "\n",
    "# 학생들의 나이 비교\n",
    "for student in students:\n",
    "    if student[\"age\"] > oldest_student[\"age\"]:\n",
    "        oldest_student = student\n",
    "    if student[\"age\"] < youngest_student[\"age\"]:\n",
    "        youngest_student = student\n",
    "\n",
    "# 결과 출력\n",
    "print(\"가장 나이가 많은 사람:\")\n",
    "print(f\"이름: {oldest_student['name']}, 생년월일: {oldest_student['bd']}, 나이: {oldest_student['age']}\", end=\"\\n\" + \"-\" *50 + \"\\n\")\n",
    "\n",
    "print(\"가장 나이가 적은 사람:\")\n",
    "print(f\"이름: {youngest_student['name']}, 생년월일: {youngest_student['bd']}, 나이: {youngest_student['age']}\", end=\"\\n\" + \"-\" *50 + \"\\n\")\n",
    "\n",
    "# 학생들의 나이 정보를 기반으로, 'oldest_student'와 'youngest_student'를 찾음\n",
    "# 코드에서 `oldest_student`와 `youngest_student`는 비교를 통해 나이가 가장 많은 사람과 가장 적은 사람을 찾는 변수\n"
   ]
  }
 ],
 "metadata": {
  "kernelspec": {
   "display_name": "Python 3",
   "language": "python",
   "name": "python3"
  },
  "language_info": {
   "codemirror_mode": {
    "name": "ipython",
    "version": 3
   },
   "file_extension": ".py",
   "mimetype": "text/x-python",
   "name": "python",
   "nbconvert_exporter": "python",
   "pygments_lexer": "ipython3",
   "version": "3.9.7"
  }
 },
 "nbformat": 4,
 "nbformat_minor": 5
}
